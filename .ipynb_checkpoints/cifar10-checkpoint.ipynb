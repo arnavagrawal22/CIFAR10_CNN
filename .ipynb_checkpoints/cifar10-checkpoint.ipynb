{
 "cells": [
  {
   "cell_type": "markdown",
   "id": "680446fe",
   "metadata": {
    "papermill": {
     "duration": 0.014027,
     "end_time": "2021-11-01T20:09:26.171654",
     "exception": false,
     "start_time": "2021-11-01T20:09:26.157627",
     "status": "completed"
    },
    "tags": []
   },
   "source": [
    "CIFAR-10 via CNN"
   ]
  },
  {
   "cell_type": "markdown",
   "id": "c3a00f02",
   "metadata": {
    "papermill": {
     "duration": 0.012019,
     "end_time": "2021-11-01T20:09:26.198057",
     "exception": false,
     "start_time": "2021-11-01T20:09:26.186038",
     "status": "completed"
    },
    "tags": []
   },
   "source": [
    "Preparing Data"
   ]
  },
  {
   "cell_type": "code",
   "execution_count": 1,
   "id": "f24646fd",
   "metadata": {
    "execution": {
     "iopub.execute_input": "2021-11-01T20:09:26.227970Z",
     "iopub.status.busy": "2021-11-01T20:09:26.226735Z",
     "iopub.status.idle": "2021-11-01T20:09:32.821460Z",
     "shell.execute_reply": "2021-11-01T20:09:32.820663Z",
     "shell.execute_reply.started": "2021-11-01T20:03:37.131190Z"
    },
    "papermill": {
     "duration": 6.611117,
     "end_time": "2021-11-01T20:09:32.821678",
     "exception": false,
     "start_time": "2021-11-01T20:09:26.210561",
     "status": "completed"
    },
    "tags": []
   },
   "outputs": [],
   "source": [
    "import tensorflow as tf\n",
    "from tensorflow.keras import datasets,models,layers\n",
    "import numpy as np\n",
    "import matplotlib.pyplot as plt"
   ]
  },
  {
   "cell_type": "code",
   "execution_count": 2,
   "id": "136129c3",
   "metadata": {
    "execution": {
     "iopub.execute_input": "2021-11-01T20:09:32.854339Z",
     "iopub.status.busy": "2021-11-01T20:09:32.853670Z",
     "iopub.status.idle": "2021-11-01T20:09:39.052892Z",
     "shell.execute_reply": "2021-11-01T20:09:39.053878Z",
     "shell.execute_reply.started": "2021-11-01T20:03:43.216981Z"
    },
    "papermill": {
     "duration": 6.217627,
     "end_time": "2021-11-01T20:09:39.054073",
     "exception": false,
     "start_time": "2021-11-01T20:09:32.836446",
     "status": "completed"
    },
    "tags": []
   },
   "outputs": [],
   "source": [
    "(x_train, y_train), (x_test, y_test) = tf.keras.datasets.cifar10.load_data()"
   ]
  },
  {
   "cell_type": "code",
   "execution_count": 3,
   "id": "1a55d72b",
   "metadata": {
    "execution": {
     "iopub.execute_input": "2021-11-01T20:09:39.128609Z",
     "iopub.status.busy": "2021-11-01T20:09:39.127518Z",
     "iopub.status.idle": "2021-11-01T20:09:39.130239Z",
     "shell.execute_reply": "2021-11-01T20:09:39.129465Z",
     "shell.execute_reply.started": "2021-11-01T20:03:57.136815Z"
    },
    "papermill": {
     "duration": 0.040398,
     "end_time": "2021-11-01T20:09:39.130393",
     "exception": false,
     "start_time": "2021-11-01T20:09:39.089995",
     "status": "completed"
    },
    "scrolled": true,
    "tags": []
   },
   "outputs": [],
   "source": [
    "y_train = y_train.reshape(-1,) #we are reshaping so that this can be fed to tensorflow function"
   ]
  },
  {
   "cell_type": "code",
   "execution_count": 7,
   "id": "fab627d0",
   "metadata": {},
   "outputs": [],
   "source": [
    "y_test = y_test.reshape(-1,)  #-1 means dont change that dimentions"
   ]
  },
  {
   "cell_type": "code",
   "execution_count": 9,
   "id": "541c8455",
   "metadata": {},
   "outputs": [
    {
     "data": {
      "text/plain": [
       "(50000, 32, 32, 3)"
      ]
     },
     "execution_count": 9,
     "metadata": {},
     "output_type": "execute_result"
    }
   ],
   "source": [
    "x_train.shape"
   ]
  },
  {
   "cell_type": "code",
   "execution_count": 10,
   "id": "f0323008",
   "metadata": {},
   "outputs": [
    {
     "data": {
      "text/plain": [
       "(50000,)"
      ]
     },
     "execution_count": 10,
     "metadata": {},
     "output_type": "execute_result"
    }
   ],
   "source": [
    "y_train.shape"
   ]
  },
  {
   "cell_type": "code",
   "execution_count": 5,
   "id": "2edae7cc",
   "metadata": {
    "execution": {
     "iopub.execute_input": "2021-11-01T20:09:39.275058Z",
     "iopub.status.busy": "2021-11-01T20:09:39.273997Z",
     "iopub.status.idle": "2021-11-01T20:09:39.820945Z",
     "shell.execute_reply": "2021-11-01T20:09:39.821427Z",
     "shell.execute_reply.started": "2021-11-01T20:03:57.156155Z"
    },
    "papermill": {
     "duration": 0.582897,
     "end_time": "2021-11-01T20:09:39.821643",
     "exception": false,
     "start_time": "2021-11-01T20:09:39.238746",
     "status": "completed"
    },
    "tags": []
   },
   "outputs": [],
   "source": [
    "x_train= x_train/255 #normalising data"
   ]
  },
  {
   "cell_type": "code",
   "execution_count": 6,
   "id": "e32fc432",
   "metadata": {
    "execution": {
     "iopub.execute_input": "2021-11-01T20:09:39.891957Z",
     "iopub.status.busy": "2021-11-01T20:09:39.890821Z",
     "iopub.status.idle": "2021-11-01T20:09:39.989561Z",
     "shell.execute_reply": "2021-11-01T20:09:39.988947Z",
     "shell.execute_reply.started": "2021-11-01T20:03:57.690259Z"
    },
    "papermill": {
     "duration": 0.135056,
     "end_time": "2021-11-01T20:09:39.989721",
     "exception": false,
     "start_time": "2021-11-01T20:09:39.854665",
     "status": "completed"
    },
    "tags": []
   },
   "outputs": [],
   "source": [
    "x_test= x_test/255 #normalising data"
   ]
  },
  {
   "cell_type": "code",
   "execution_count": 7,
   "id": "6b48d339",
   "metadata": {
    "execution": {
     "iopub.execute_input": "2021-11-01T20:09:40.061917Z",
     "iopub.status.busy": "2021-11-01T20:09:40.061070Z",
     "iopub.status.idle": "2021-11-01T20:09:40.068603Z",
     "shell.execute_reply": "2021-11-01T20:09:40.067998Z",
     "shell.execute_reply.started": "2021-11-01T20:03:57.789802Z"
    },
    "papermill": {
     "duration": 0.045059,
     "end_time": "2021-11-01T20:09:40.068777",
     "exception": false,
     "start_time": "2021-11-01T20:09:40.023718",
     "status": "completed"
    },
    "tags": []
   },
   "outputs": [],
   "source": [
    "y_train = tf.keras.utils.to_categorical(y_train)\n",
    "y_test = tf.keras.utils.to_categorical(y_test) #changing to one hot encodings"
   ]
  },
  {
   "cell_type": "markdown",
   "id": "b5a4643a",
   "metadata": {
    "papermill": {
     "duration": 0.031934,
     "end_time": "2021-11-01T20:09:40.133341",
     "exception": false,
     "start_time": "2021-11-01T20:09:40.101407",
     "status": "completed"
    },
    "tags": []
   },
   "source": [
    "Model"
   ]
  },
  {
   "cell_type": "code",
   "execution_count": 8,
   "id": "5d9b63ae",
   "metadata": {
    "execution": {
     "iopub.execute_input": "2021-11-01T20:09:40.214498Z",
     "iopub.status.busy": "2021-11-01T20:09:40.213756Z",
     "iopub.status.idle": "2021-11-01T20:09:40.536639Z",
     "shell.execute_reply": "2021-11-01T20:09:40.535892Z",
     "shell.execute_reply.started": "2021-11-01T20:03:57.801627Z"
    },
    "papermill": {
     "duration": 0.371381,
     "end_time": "2021-11-01T20:09:40.536786",
     "exception": false,
     "start_time": "2021-11-01T20:09:40.165405",
     "status": "completed"
    },
    "tags": []
   },
   "outputs": [
    {
     "name": "stderr",
     "output_type": "stream",
     "text": [
      "\n",
      "User settings:\n",
      "\n",
      "   KMP_AFFINITY=granularity=fine,verbose,compact,1,0\n",
      "   KMP_BLOCKTIME=0\n",
      "   KMP_SETTINGS=1\n",
      "   KMP_WARNINGS=0\n",
      "\n",
      "Effective settings:\n",
      "\n",
      "   KMP_ABORT_DELAY=0\n",
      "   KMP_ADAPTIVE_LOCK_PROPS='1,1024'\n",
      "   KMP_ALIGN_ALLOC=64\n",
      "   KMP_ALL_THREADPRIVATE=128\n",
      "   KMP_ATOMIC_MODE=2\n",
      "   KMP_BLOCKTIME=0\n",
      "   KMP_CPUINFO_FILE: value is not defined\n",
      "   KMP_DETERMINISTIC_REDUCTION=false\n",
      "   KMP_DEVICE_THREAD_LIMIT=2147483647\n",
      "   KMP_DISP_NUM_BUFFERS=7\n",
      "   KMP_DUPLICATE_LIB_OK=false\n",
      "   KMP_ENABLE_TASK_THROTTLING=true\n",
      "   KMP_FORCE_REDUCTION: value is not defined\n",
      "   KMP_FOREIGN_THREADS_THREADPRIVATE=true\n",
      "   KMP_FORKJOIN_BARRIER='2,2'\n",
      "   KMP_FORKJOIN_BARRIER_PATTERN='hyper,hyper'\n",
      "   KMP_GTID_MODE=3\n",
      "   KMP_HANDLE_SIGNALS=false\n",
      "   KMP_HOT_TEAMS_MAX_LEVEL=1\n",
      "   KMP_HOT_TEAMS_MODE=0\n",
      "   KMP_INIT_AT_FORK=true\n",
      "   KMP_LIBRARY=throughput\n",
      "   KMP_LOCK_KIND=queuing\n",
      "   KMP_MALLOC_POOL_INCR=1M\n",
      "   KMP_NUM_LOCKS_IN_BLOCK=1\n",
      "   KMP_PLAIN_BARRIER='2,2'\n",
      "   KMP_PLAIN_BARRIER_PATTERN='hyper,hyper'\n",
      "   KMP_REDUCTION_BARRIER='1,1'\n",
      "   KMP_REDUCTION_BARRIER_PATTERN='hyper,hyper'\n",
      "   KMP_SCHEDULE='static,balanced;guided,iterative'\n",
      "   KMP_SETTINGS=true\n",
      "   KMP_SPIN_BACKOFF_PARAMS='4096,100'\n",
      "   KMP_STACKOFFSET=64\n",
      "   KMP_STACKPAD=0\n",
      "   KMP_STACKSIZE=8M\n",
      "   KMP_STORAGE_MAP=false\n",
      "   KMP_TASKING=2\n",
      "   KMP_TASKLOOP_MIN_TASKS=0\n",
      "   KMP_TASK_STEALING_CONSTRAINT=1\n",
      "   KMP_TEAMS_THREAD_LIMIT=4\n",
      "   KMP_TOPOLOGY_METHOD=all\n",
      "   KMP_USE_YIELD=1\n",
      "   KMP_VERSION=false\n",
      "   KMP_WARNINGS=false\n",
      "   OMP_AFFINITY_FORMAT='OMP: pid %P tid %i thread %n bound to OS proc set {%A}'\n",
      "   OMP_ALLOCATOR=omp_default_mem_alloc\n",
      "   OMP_CANCELLATION=false\n",
      "   OMP_DEFAULT_DEVICE=0\n",
      "   OMP_DISPLAY_AFFINITY=false\n",
      "   OMP_DISPLAY_ENV=false\n",
      "   OMP_DYNAMIC=false\n",
      "   OMP_MAX_ACTIVE_LEVELS=1\n",
      "   OMP_MAX_TASK_PRIORITY=0\n",
      "   OMP_NESTED: deprecated; max-active-levels-var=1\n",
      "   OMP_NUM_THREADS: value is not defined\n",
      "   OMP_PLACES: value is not defined\n",
      "   OMP_PROC_BIND='intel'\n",
      "   OMP_SCHEDULE='static'\n",
      "   OMP_STACKSIZE=8M\n",
      "   OMP_TARGET_OFFLOAD=DEFAULT\n",
      "   OMP_THREAD_LIMIT=2147483647\n",
      "   OMP_WAIT_POLICY=PASSIVE\n",
      "   KMP_AFFINITY='verbose,warnings,respect,granularity=fine,compact,1,0'\n",
      "\n",
      "2021-11-01 20:09:40.254061: I tensorflow/core/common_runtime/process_util.cc:146] Creating new thread pool with default inter op setting: 2. Tune using inter_op_parallelism_threads for best performance.\n"
     ]
    }
   ],
   "source": [
    "cnn = models.Sequential() #32,32,3\n",
    "\n",
    "cnn.add(layers.Conv2D(filters=32,\n",
    "                  kernel_size=(3,3),\n",
    "                  activation='relu',\n",
    "                  padding='same',\n",
    "                  input_shape=(32,32,3))) #32,32,32\n",
    "\n",
    "cnn.add(layers.BatchNormalization())\n",
    "\n",
    "cnn.add(layers.Conv2D(filters=32,\n",
    "                  kernel_size=(3,3),\n",
    "                  activation='relu',\n",
    "                  padding='same',\n",
    "                  )) #32,32,32\n",
    "\n",
    "cnn.add(layers.BatchNormalization())\n",
    "\n",
    "cnn.add(layers.MaxPooling2D((2, 2))) #31,31,32\n",
    "\n",
    "cnn.add(layers.Dropout(0.2))\n",
    "\n",
    "cnn.add(layers.Conv2D(filters=64,\n",
    "                  kernel_size=(3,3),\n",
    "                  activation='relu',\n",
    "                  padding='same',\n",
    "                  )) #31,31,64\n",
    "\n",
    "cnn.add(layers.BatchNormalization())\n",
    "\n",
    "cnn.add(layers.Conv2D(filters=64,\n",
    "                  kernel_size=(3,3),\n",
    "                  activation='relu',\n",
    "                  padding='same',\n",
    "                  )) #31,31,64\n",
    "\n",
    "cnn.add(layers.BatchNormalization())\n",
    "\n",
    "cnn.add(layers.MaxPooling2D((2, 2)))\n",
    "\n",
    "cnn.add(layers.Dropout(0.3))\n",
    "\n",
    "cnn.add(layers.Conv2D(filters=128,\n",
    "                  kernel_size=(3,3),\n",
    "                  activation='relu',\n",
    "                  padding='same',\n",
    "                  input_shape=(32,32,3))) \n",
    "\n",
    "cnn.add(layers.BatchNormalization())\n",
    "\n",
    "cnn.add(layers.Conv2D(filters=128,\n",
    "                  kernel_size=(3,3),\n",
    "                  activation='relu',\n",
    "                  padding='same',\n",
    "                  input_shape=(32,32,3))) \n",
    "\n",
    "cnn.add(layers.BatchNormalization())\n",
    "\n",
    "cnn.add(layers.MaxPooling2D((2, 2)))\n",
    "\n",
    "cnn.add(layers.Dropout(0.4))\n",
    "\n",
    "cnn.add(layers.Flatten())\n",
    "cnn.add(layers.Dense(128,activation='relu'))\n",
    "cnn.add(layers.BatchNormalization())\n",
    "cnn.add(layers.Dropout(0.5))\n",
    "\n",
    "cnn.add(layers.Dense(10,activation='softmax'))\n",
    "\n",
    "cnn.compile(optimizer='adam',loss='categorical_crossentropy',metrics=['accuracy'])"
   ]
  },
  {
   "cell_type": "code",
   "execution_count": 9,
   "id": "e0b50785",
   "metadata": {
    "execution": {
     "iopub.execute_input": "2021-11-01T20:09:40.607934Z",
     "iopub.status.busy": "2021-11-01T20:09:40.606748Z",
     "iopub.status.idle": "2021-11-01T20:09:40.611802Z",
     "shell.execute_reply": "2021-11-01T20:09:40.612379Z",
     "shell.execute_reply.started": "2021-11-01T20:03:58.094004Z"
    },
    "papermill": {
     "duration": 0.042307,
     "end_time": "2021-11-01T20:09:40.612620",
     "exception": false,
     "start_time": "2021-11-01T20:09:40.570313",
     "status": "completed"
    },
    "tags": []
   },
   "outputs": [],
   "source": [
    "datagen = tf.keras.preprocessing.image.ImageDataGenerator(width_shift_range=0.1, height_shift_range=0.1, horizontal_flip=True)"
   ]
  },
  {
   "cell_type": "code",
   "execution_count": 10,
   "id": "3b11ed24",
   "metadata": {
    "execution": {
     "iopub.execute_input": "2021-11-01T20:09:40.683605Z",
     "iopub.status.busy": "2021-11-01T20:09:40.682518Z",
     "iopub.status.idle": "2021-11-02T01:39:45.902965Z",
     "shell.execute_reply": "2021-11-02T01:39:45.903637Z",
     "shell.execute_reply.started": "2021-11-01T20:03:58.100409Z"
    },
    "papermill": {
     "duration": 19805.25768,
     "end_time": "2021-11-02T01:39:45.903972",
     "exception": false,
     "start_time": "2021-11-01T20:09:40.646292",
     "status": "completed"
    },
    "tags": []
   },
   "outputs": [
    {
     "name": "stderr",
     "output_type": "stream",
     "text": [
      "/opt/conda/lib/python3.7/site-packages/keras/engine/training.py:1972: UserWarning: `Model.fit_generator` is deprecated and will be removed in a future version. Please use `Model.fit`, which supports generators.\n",
      "  warnings.warn('`Model.fit_generator` is deprecated and '\n",
      "2021-11-01 20:09:41.113793: I tensorflow/compiler/mlir/mlir_graph_optimization_pass.cc:185] None of the MLIR Optimization Passes are enabled (registered 2)\n"
     ]
    },
    {
     "name": "stdout",
     "output_type": "stream",
     "text": [
      "Epoch 1/100\n",
      "781/781 [==============================] - 170s 215ms/step - loss: 1.7459 - accuracy: 0.3966 - val_loss: 1.2806 - val_accuracy: 0.5447\n",
      "Epoch 2/100\n",
      "781/781 [==============================] - 168s 215ms/step - loss: 1.2208 - accuracy: 0.5650 - val_loss: 1.1125 - val_accuracy: 0.6029\n",
      "Epoch 3/100\n",
      "781/781 [==============================] - 171s 219ms/step - loss: 1.0213 - accuracy: 0.6402 - val_loss: 0.8912 - val_accuracy: 0.6867\n",
      "Epoch 4/100\n",
      "781/781 [==============================] - 172s 220ms/step - loss: 0.9145 - accuracy: 0.6828 - val_loss: 0.7768 - val_accuracy: 0.7355\n",
      "Epoch 5/100\n",
      "781/781 [==============================] - 171s 218ms/step - loss: 0.8383 - accuracy: 0.7098 - val_loss: 0.7873 - val_accuracy: 0.7240\n",
      "Epoch 6/100\n",
      "781/781 [==============================] - 171s 219ms/step - loss: 0.7757 - accuracy: 0.7331 - val_loss: 0.7961 - val_accuracy: 0.7223\n",
      "Epoch 7/100\n",
      "781/781 [==============================] - 175s 224ms/step - loss: 0.7356 - accuracy: 0.7464 - val_loss: 0.6065 - val_accuracy: 0.7930\n",
      "Epoch 8/100\n",
      "781/781 [==============================] - 172s 221ms/step - loss: 0.6962 - accuracy: 0.7613 - val_loss: 0.6048 - val_accuracy: 0.7917\n",
      "Epoch 9/100\n",
      "781/781 [==============================] - 173s 222ms/step - loss: 0.6657 - accuracy: 0.7734 - val_loss: 0.6003 - val_accuracy: 0.7972\n",
      "Epoch 10/100\n",
      "781/781 [==============================] - 174s 223ms/step - loss: 0.6381 - accuracy: 0.7826 - val_loss: 0.6410 - val_accuracy: 0.7833\n",
      "Epoch 11/100\n",
      "781/781 [==============================] - 174s 223ms/step - loss: 0.6195 - accuracy: 0.7897 - val_loss: 0.6684 - val_accuracy: 0.7727\n",
      "Epoch 12/100\n",
      "781/781 [==============================] - 175s 224ms/step - loss: 0.6027 - accuracy: 0.7950 - val_loss: 0.5698 - val_accuracy: 0.8032\n",
      "Epoch 13/100\n",
      "781/781 [==============================] - 177s 226ms/step - loss: 0.5810 - accuracy: 0.8028 - val_loss: 0.5798 - val_accuracy: 0.8085\n",
      "Epoch 14/100\n",
      "781/781 [==============================] - 175s 224ms/step - loss: 0.5643 - accuracy: 0.8085 - val_loss: 0.5346 - val_accuracy: 0.8177\n",
      "Epoch 15/100\n",
      "781/781 [==============================] - 173s 222ms/step - loss: 0.5624 - accuracy: 0.8070 - val_loss: 0.5393 - val_accuracy: 0.8209\n",
      "Epoch 16/100\n",
      "781/781 [==============================] - 174s 222ms/step - loss: 0.5419 - accuracy: 0.8160 - val_loss: 0.5543 - val_accuracy: 0.8153\n",
      "Epoch 17/100\n",
      "781/781 [==============================] - 173s 222ms/step - loss: 0.5295 - accuracy: 0.8213 - val_loss: 0.5109 - val_accuracy: 0.8289\n",
      "Epoch 18/100\n",
      "781/781 [==============================] - 175s 224ms/step - loss: 0.5208 - accuracy: 0.8236 - val_loss: 0.5147 - val_accuracy: 0.8282\n",
      "Epoch 19/100\n",
      "781/781 [==============================] - 172s 220ms/step - loss: 0.5110 - accuracy: 0.8266 - val_loss: 0.4494 - val_accuracy: 0.8466\n",
      "Epoch 20/100\n",
      "781/781 [==============================] - 177s 226ms/step - loss: 0.5020 - accuracy: 0.8289 - val_loss: 0.5292 - val_accuracy: 0.8222\n",
      "Epoch 21/100\n",
      "781/781 [==============================] - 176s 225ms/step - loss: 0.4935 - accuracy: 0.8324 - val_loss: 0.4812 - val_accuracy: 0.8382\n",
      "Epoch 22/100\n",
      "781/781 [==============================] - 174s 222ms/step - loss: 0.4887 - accuracy: 0.8352 - val_loss: 0.4258 - val_accuracy: 0.8546\n",
      "Epoch 23/100\n",
      "781/781 [==============================] - 175s 224ms/step - loss: 0.4786 - accuracy: 0.8395 - val_loss: 0.5268 - val_accuracy: 0.8270\n",
      "Epoch 24/100\n",
      "781/781 [==============================] - 178s 227ms/step - loss: 0.4800 - accuracy: 0.8374 - val_loss: 0.4260 - val_accuracy: 0.8568\n",
      "Epoch 25/100\n",
      "781/781 [==============================] - 180s 231ms/step - loss: 0.4665 - accuracy: 0.8396 - val_loss: 0.4014 - val_accuracy: 0.8605\n",
      "Epoch 26/100\n",
      "781/781 [==============================] - 175s 224ms/step - loss: 0.4575 - accuracy: 0.8439 - val_loss: 0.4307 - val_accuracy: 0.8554\n",
      "Epoch 27/100\n",
      "781/781 [==============================] - 175s 224ms/step - loss: 0.4487 - accuracy: 0.8483 - val_loss: 0.4074 - val_accuracy: 0.8633\n",
      "Epoch 28/100\n",
      "781/781 [==============================] - 172s 221ms/step - loss: 0.4440 - accuracy: 0.8511 - val_loss: 0.4340 - val_accuracy: 0.8518\n",
      "Epoch 29/100\n",
      "781/781 [==============================] - 176s 225ms/step - loss: 0.4429 - accuracy: 0.8510 - val_loss: 0.3970 - val_accuracy: 0.8634\n",
      "Epoch 30/100\n",
      "781/781 [==============================] - 171s 219ms/step - loss: 0.4366 - accuracy: 0.8546 - val_loss: 0.4327 - val_accuracy: 0.8509\n",
      "Epoch 31/100\n",
      "781/781 [==============================] - 176s 225ms/step - loss: 0.4338 - accuracy: 0.8537 - val_loss: 0.4121 - val_accuracy: 0.8623\n",
      "Epoch 32/100\n",
      "781/781 [==============================] - 171s 218ms/step - loss: 0.4221 - accuracy: 0.8569 - val_loss: 0.5123 - val_accuracy: 0.8262\n",
      "Epoch 33/100\n",
      "781/781 [==============================] - 173s 221ms/step - loss: 0.4193 - accuracy: 0.8567 - val_loss: 0.4341 - val_accuracy: 0.8551\n",
      "Epoch 34/100\n",
      "781/781 [==============================] - 177s 227ms/step - loss: 0.4232 - accuracy: 0.8570 - val_loss: 0.4022 - val_accuracy: 0.8676\n",
      "Epoch 35/100\n",
      "781/781 [==============================] - 172s 220ms/step - loss: 0.4131 - accuracy: 0.8604 - val_loss: 0.4352 - val_accuracy: 0.8547\n",
      "Epoch 36/100\n",
      "781/781 [==============================] - 179s 229ms/step - loss: 0.4121 - accuracy: 0.8598 - val_loss: 0.3815 - val_accuracy: 0.8737\n",
      "Epoch 37/100\n",
      "781/781 [==============================] - 171s 219ms/step - loss: 0.4070 - accuracy: 0.8623 - val_loss: 0.3808 - val_accuracy: 0.8711\n",
      "Epoch 38/100\n",
      "781/781 [==============================] - 173s 222ms/step - loss: 0.4050 - accuracy: 0.8629 - val_loss: 0.3924 - val_accuracy: 0.8676\n",
      "Epoch 39/100\n",
      "781/781 [==============================] - 178s 228ms/step - loss: 0.3998 - accuracy: 0.8644 - val_loss: 0.4159 - val_accuracy: 0.8607\n",
      "Epoch 40/100\n",
      "781/781 [==============================] - 182s 233ms/step - loss: 0.3987 - accuracy: 0.8655 - val_loss: 0.4019 - val_accuracy: 0.8643\n",
      "Epoch 41/100\n",
      "781/781 [==============================] - 192s 246ms/step - loss: 0.3937 - accuracy: 0.8664 - val_loss: 0.3760 - val_accuracy: 0.8714\n",
      "Epoch 42/100\n",
      "781/781 [==============================] - 184s 235ms/step - loss: 0.3910 - accuracy: 0.8669 - val_loss: 0.4095 - val_accuracy: 0.8617\n",
      "Epoch 43/100\n",
      "781/781 [==============================] - 184s 236ms/step - loss: 0.3896 - accuracy: 0.8670 - val_loss: 0.3616 - val_accuracy: 0.8788\n",
      "Epoch 44/100\n",
      "781/781 [==============================] - 189s 243ms/step - loss: 0.3914 - accuracy: 0.8687 - val_loss: 0.3786 - val_accuracy: 0.8722\n",
      "Epoch 45/100\n",
      "781/781 [==============================] - 173s 222ms/step - loss: 0.3798 - accuracy: 0.8703 - val_loss: 0.3762 - val_accuracy: 0.8726\n",
      "Epoch 46/100\n",
      "781/781 [==============================] - 173s 222ms/step - loss: 0.3805 - accuracy: 0.8702 - val_loss: 0.3819 - val_accuracy: 0.8703\n",
      "Epoch 47/100\n",
      "781/781 [==============================] - 181s 231ms/step - loss: 0.3768 - accuracy: 0.8709 - val_loss: 0.3456 - val_accuracy: 0.8830\n",
      "Epoch 48/100\n",
      "781/781 [==============================] - 174s 222ms/step - loss: 0.3757 - accuracy: 0.8716 - val_loss: 0.4555 - val_accuracy: 0.8462\n",
      "Epoch 49/100\n",
      "781/781 [==============================] - 173s 221ms/step - loss: 0.3747 - accuracy: 0.8735 - val_loss: 0.3445 - val_accuracy: 0.8836\n",
      "Epoch 50/100\n",
      "781/781 [==============================] - 182s 233ms/step - loss: 0.3674 - accuracy: 0.8756 - val_loss: 0.3777 - val_accuracy: 0.8710\n",
      "Epoch 51/100\n",
      "781/781 [==============================] - 177s 226ms/step - loss: 0.3693 - accuracy: 0.8733 - val_loss: 0.4852 - val_accuracy: 0.8439\n",
      "Epoch 52/100\n",
      "781/781 [==============================] - 174s 223ms/step - loss: 0.3668 - accuracy: 0.8765 - val_loss: 0.3665 - val_accuracy: 0.8768\n",
      "Epoch 53/100\n",
      "781/781 [==============================] - 188s 240ms/step - loss: 0.3612 - accuracy: 0.8772 - val_loss: 0.3403 - val_accuracy: 0.8821\n",
      "Epoch 54/100\n",
      "781/781 [==============================] - 176s 225ms/step - loss: 0.3636 - accuracy: 0.8763 - val_loss: 0.3883 - val_accuracy: 0.8720\n",
      "Epoch 55/100\n",
      "781/781 [==============================] - 177s 227ms/step - loss: 0.3629 - accuracy: 0.8768 - val_loss: 0.3657 - val_accuracy: 0.8781\n",
      "Epoch 56/100\n",
      "781/781 [==============================] - 174s 223ms/step - loss: 0.3560 - accuracy: 0.8784 - val_loss: 0.3871 - val_accuracy: 0.8706\n",
      "Epoch 57/100\n",
      "781/781 [==============================] - 175s 224ms/step - loss: 0.3554 - accuracy: 0.8788 - val_loss: 0.3511 - val_accuracy: 0.8834\n",
      "Epoch 58/100\n",
      "781/781 [==============================] - 165s 211ms/step - loss: 0.3490 - accuracy: 0.8806 - val_loss: 0.3544 - val_accuracy: 0.8832\n",
      "Epoch 59/100\n",
      "781/781 [==============================] - 177s 226ms/step - loss: 0.3464 - accuracy: 0.8809 - val_loss: 0.4184 - val_accuracy: 0.8636\n",
      "Epoch 60/100\n",
      "781/781 [==============================] - 182s 232ms/step - loss: 0.3503 - accuracy: 0.8815 - val_loss: 0.3502 - val_accuracy: 0.8845\n",
      "Epoch 61/100\n",
      "781/781 [==============================] - 187s 239ms/step - loss: 0.3470 - accuracy: 0.8819 - val_loss: 0.3957 - val_accuracy: 0.8723\n",
      "Epoch 62/100\n",
      "781/781 [==============================] - 175s 225ms/step - loss: 0.3455 - accuracy: 0.8822 - val_loss: 0.3317 - val_accuracy: 0.8910\n",
      "Epoch 63/100\n",
      "781/781 [==============================] - 186s 238ms/step - loss: 0.3429 - accuracy: 0.8845 - val_loss: 0.3937 - val_accuracy: 0.8704\n",
      "Epoch 64/100\n",
      "781/781 [==============================] - 186s 238ms/step - loss: 0.3457 - accuracy: 0.8817 - val_loss: 0.3340 - val_accuracy: 0.8874\n",
      "Epoch 65/100\n",
      "781/781 [==============================] - 192s 246ms/step - loss: 0.3409 - accuracy: 0.8830 - val_loss: 0.3405 - val_accuracy: 0.8859\n",
      "Epoch 66/100\n",
      "781/781 [==============================] - 177s 227ms/step - loss: 0.3404 - accuracy: 0.8838 - val_loss: 0.3377 - val_accuracy: 0.8860\n",
      "Epoch 67/100\n",
      "781/781 [==============================] - 188s 241ms/step - loss: 0.3360 - accuracy: 0.8854 - val_loss: 0.4068 - val_accuracy: 0.8655\n",
      "Epoch 68/100\n",
      "781/781 [==============================] - 189s 241ms/step - loss: 0.3347 - accuracy: 0.8862 - val_loss: 0.3468 - val_accuracy: 0.8857\n",
      "Epoch 69/100\n",
      "781/781 [==============================] - 177s 227ms/step - loss: 0.3303 - accuracy: 0.8863 - val_loss: 0.3167 - val_accuracy: 0.8937\n",
      "Epoch 70/100\n",
      "781/781 [==============================] - 188s 241ms/step - loss: 0.3333 - accuracy: 0.8860 - val_loss: 0.3315 - val_accuracy: 0.8916\n",
      "Epoch 71/100\n",
      "781/781 [==============================] - 189s 242ms/step - loss: 0.3354 - accuracy: 0.8850 - val_loss: 0.4080 - val_accuracy: 0.8686\n",
      "Epoch 72/100\n",
      "781/781 [==============================] - 193s 248ms/step - loss: 0.3302 - accuracy: 0.8872 - val_loss: 0.3250 - val_accuracy: 0.8898\n",
      "Epoch 73/100\n",
      "781/781 [==============================] - 180s 231ms/step - loss: 0.3281 - accuracy: 0.8875 - val_loss: 0.3251 - val_accuracy: 0.8904\n",
      "Epoch 74/100\n",
      "781/781 [==============================] - 196s 251ms/step - loss: 0.3302 - accuracy: 0.8886 - val_loss: 0.3396 - val_accuracy: 0.8882\n",
      "Epoch 75/100\n",
      "781/781 [==============================] - 195s 249ms/step - loss: 0.3252 - accuracy: 0.8891 - val_loss: 0.3327 - val_accuracy: 0.8873\n",
      "Epoch 76/100\n",
      "781/781 [==============================] - 175s 224ms/step - loss: 0.3237 - accuracy: 0.8907 - val_loss: 0.3346 - val_accuracy: 0.8896\n",
      "Epoch 77/100\n",
      "781/781 [==============================] - 190s 243ms/step - loss: 0.3221 - accuracy: 0.8910 - val_loss: 0.3541 - val_accuracy: 0.8830\n",
      "Epoch 78/100\n",
      "781/781 [==============================] - 194s 248ms/step - loss: 0.3212 - accuracy: 0.8910 - val_loss: 0.3336 - val_accuracy: 0.8897\n",
      "Epoch 79/100\n",
      "781/781 [==============================] - 194s 249ms/step - loss: 0.3186 - accuracy: 0.8916 - val_loss: 0.3204 - val_accuracy: 0.8913\n",
      "Epoch 80/100\n",
      "781/781 [==============================] - 194s 248ms/step - loss: 0.3174 - accuracy: 0.8908 - val_loss: 0.3366 - val_accuracy: 0.8911\n",
      "Epoch 81/100\n",
      "781/781 [==============================] - 190s 243ms/step - loss: 0.3227 - accuracy: 0.8888 - val_loss: 0.3650 - val_accuracy: 0.8784\n",
      "Epoch 82/100\n",
      "781/781 [==============================] - 176s 225ms/step - loss: 0.3123 - accuracy: 0.8933 - val_loss: 0.3512 - val_accuracy: 0.8817\n",
      "Epoch 83/100\n",
      "781/781 [==============================] - 192s 245ms/step - loss: 0.3172 - accuracy: 0.8919 - val_loss: 0.3328 - val_accuracy: 0.8899\n",
      "Epoch 84/100\n",
      "781/781 [==============================] - 191s 245ms/step - loss: 0.3182 - accuracy: 0.8912 - val_loss: 0.3583 - val_accuracy: 0.8840\n",
      "Epoch 85/100\n",
      "781/781 [==============================] - 176s 225ms/step - loss: 0.3172 - accuracy: 0.8911 - val_loss: 0.3276 - val_accuracy: 0.8925\n",
      "Epoch 86/100\n",
      "781/781 [==============================] - 178s 228ms/step - loss: 0.3089 - accuracy: 0.8952 - val_loss: 0.3367 - val_accuracy: 0.8925\n",
      "Epoch 87/100\n",
      "781/781 [==============================] - 192s 246ms/step - loss: 0.3096 - accuracy: 0.8948 - val_loss: 0.3172 - val_accuracy: 0.8941\n",
      "Epoch 88/100\n",
      "781/781 [==============================] - 199s 255ms/step - loss: 0.3065 - accuracy: 0.8957 - val_loss: 0.3275 - val_accuracy: 0.8934\n",
      "Epoch 89/100\n",
      "781/781 [==============================] - 185s 237ms/step - loss: 0.3134 - accuracy: 0.8922 - val_loss: 0.3648 - val_accuracy: 0.8792\n",
      "Epoch 90/100\n",
      "781/781 [==============================] - 205s 262ms/step - loss: 0.3126 - accuracy: 0.8933 - val_loss: 0.3331 - val_accuracy: 0.8933\n",
      "Epoch 91/100\n",
      "781/781 [==============================] - 200s 256ms/step - loss: 0.3104 - accuracy: 0.8927 - val_loss: 0.3352 - val_accuracy: 0.8911\n",
      "Epoch 92/100\n",
      "781/781 [==============================] - 194s 248ms/step - loss: 0.3083 - accuracy: 0.8947 - val_loss: 0.3658 - val_accuracy: 0.8828\n",
      "Epoch 93/100\n",
      "781/781 [==============================] - 189s 242ms/step - loss: 0.3068 - accuracy: 0.8958 - val_loss: 0.3198 - val_accuracy: 0.8940\n",
      "Epoch 94/100\n",
      "781/781 [==============================] - 194s 248ms/step - loss: 0.3019 - accuracy: 0.8961 - val_loss: 0.3428 - val_accuracy: 0.8885\n",
      "Epoch 95/100\n",
      "781/781 [==============================] - 199s 255ms/step - loss: 0.2994 - accuracy: 0.8979 - val_loss: 0.3179 - val_accuracy: 0.8970\n",
      "Epoch 96/100\n",
      "781/781 [==============================] - 176s 225ms/step - loss: 0.3022 - accuracy: 0.8963 - val_loss: 0.3173 - val_accuracy: 0.8935\n",
      "Epoch 97/100\n",
      "781/781 [==============================] - 193s 247ms/step - loss: 0.3016 - accuracy: 0.8966 - val_loss: 0.3224 - val_accuracy: 0.8936\n",
      "Epoch 98/100\n",
      "781/781 [==============================] - 191s 245ms/step - loss: 0.2996 - accuracy: 0.8981 - val_loss: 0.3325 - val_accuracy: 0.8949\n",
      "Epoch 99/100\n",
      "781/781 [==============================] - 174s 223ms/step - loss: 0.2980 - accuracy: 0.8981 - val_loss: 0.3196 - val_accuracy: 0.8969\n",
      "Epoch 100/100\n",
      "781/781 [==============================] - 192s 246ms/step - loss: 0.2974 - accuracy: 0.8988 - val_loss: 0.3555 - val_accuracy: 0.8866\n"
     ]
    }
   ],
   "source": [
    "it_train = datagen.flow(x_train,y_train, batch_size=64)\n",
    "\n",
    "steps = int(x_train.shape[0] / 64)\n",
    "\n",
    "history = cnn.fit_generator(it_train, steps_per_epoch=steps, epochs=100, validation_data=(x_test, y_test))"
   ]
  },
  {
   "cell_type": "code",
   "execution_count": 11,
   "id": "f63b1707",
   "metadata": {
    "execution": {
     "iopub.execute_input": "2021-11-02T01:40:34.911991Z",
     "iopub.status.busy": "2021-11-02T01:40:34.911256Z",
     "iopub.status.idle": "2021-11-02T01:40:35.428184Z",
     "shell.execute_reply": "2021-11-02T01:40:35.428707Z",
     "shell.execute_reply.started": "2021-11-01T20:08:27.963679Z"
    },
    "papermill": {
     "duration": 24.871372,
     "end_time": "2021-11-02T01:40:35.428919",
     "exception": false,
     "start_time": "2021-11-02T01:40:10.557547",
     "status": "completed"
    },
    "tags": []
   },
   "outputs": [
    {
     "data": {
      "image/png": "[encoded data removed]",
      "text/plain": [
       "<Figure size 432x288 with 1 Axes>"
      ]
     },
     "metadata": {
      "needs_background": "light"
     },
     "output_type": "display_data"
    },
    {
     "data": {
      "image/png": "[encoded data removed]",
      "text/plain": [
       "<Figure size 432x288 with 1 Axes>"
      ]
     },
     "metadata": {
      "needs_background": "light"
     },
     "output_type": "display_data"
    }
   ],
   "source": [
    "plt.plot(history.history['accuracy'])\n",
    "plt.plot(history.history['val_accuracy'])\n",
    "plt.title('model accuracy')\n",
    "plt.ylabel('accuracy')\n",
    "plt.xlabel('epoch')\n",
    "plt.legend(['train', 'test'], loc='upper left')\n",
    "plt.show()\n",
    "\n",
    "\n",
    "plt.plot(history.history['loss'])\n",
    "plt.plot(history.history['val_loss'])\n",
    "plt.title('model loss')\n",
    "plt.ylabel('loss')\n",
    "plt.xlabel('epoch')\n",
    "plt.legend(['train', 'test'], loc='upper left')\n",
    "plt.show()"
   ]
  },
  {
   "cell_type": "code",
   "execution_count": 12,
   "id": "e4c741c7",
   "metadata": {
    "execution": {
     "iopub.execute_input": "2021-11-02T01:41:24.455339Z",
     "iopub.status.busy": "2021-11-02T01:41:24.454225Z",
     "iopub.status.idle": "2021-11-02T01:41:34.783275Z",
     "shell.execute_reply": "2021-11-02T01:41:34.782723Z",
     "shell.execute_reply.started": "2021-11-01T20:08:27.965180Z"
    },
    "papermill": {
     "duration": 34.960453,
     "end_time": "2021-11-02T01:41:34.783438",
     "exception": false,
     "start_time": "2021-11-02T01:40:59.822985",
     "status": "completed"
    },
    "tags": []
   },
   "outputs": [
    {
     "name": "stdout",
     "output_type": "stream",
     "text": [
      "313/313 [==============================] - 9s 30ms/step - loss: 0.3555 - accuracy: 0.8866\n"
     ]
    },
    {
     "data": {
      "text/plain": [
       "[0.3555089235305786, 0.8866000175476074]"
      ]
     },
     "execution_count": 12,
     "metadata": {},
     "output_type": "execute_result"
    }
   ],
   "source": [
    "cnn.evaluate(x_test,y_test)"
   ]
  }
 ],
 "metadata": {
  "kernelspec": {
   "display_name": "Python 3",
   "language": "python",
   "name": "python3"
  },
  "language_info": {
   "codemirror_mode": {
    "name": "ipython",
    "version": 3
   },
   "file_extension": ".py",
   "mimetype": "text/x-python",
   "name": "python",
   "nbconvert_exporter": "python",
   "pygments_lexer": "ipython3",
   "version": "3.8.8"
  },
  "papermill": {
   "default_parameters": {},
   "duration": 19966.102389,
   "end_time": "2021-11-02T01:42:02.678061",
   "environment_variables": {},
   "exception": null,
   "input_path": "__notebook__.ipynb",
   "output_path": "__notebook__.ipynb",
   "parameters": {},
   "start_time": "2021-11-01T20:09:16.575672",
   "version": "2.3.3"
  }
 },
 "nbformat": 4,
 "nbformat_minor": 5
}
