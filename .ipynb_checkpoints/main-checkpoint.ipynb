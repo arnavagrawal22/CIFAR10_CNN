{
 "cells": [
  {
   "cell_type": "markdown",
   "id": "25697fec",
   "metadata": {},
   "source": [
    "CIFAR-10 via CNN"
   ]
  },
  {
   "cell_type": "markdown",
   "id": "89459095",
   "metadata": {},
   "source": [
    "Preparing Data"
   ]
  },
  {
   "cell_type": "code",
   "execution_count": 111,
   "id": "0e7b2903",
   "metadata": {},
   "outputs": [],
   "source": [
    "import tensorflow as tf\n",
    "from tensorflow.keras import datasets,models,layers\n",
    "import numpy as np\n",
    "import matplotlib.pyplot as plt"
   ]
  },
  {
   "cell_type": "code",
   "execution_count": 112,
   "id": "924d6231",
   "metadata": {},
   "outputs": [],
   "source": [
    "(x_train, y_train), (x_test, y_test) = tf.keras.datasets.cifar10.load_data()"
   ]
  },
  {
   "cell_type": "code",
   "execution_count": 113,
   "id": "fb952274",
   "metadata": {
    "scrolled": true
   },
   "outputs": [],
   "source": [
    "y_train = y_train.reshape(-1,) #we are reshaping so that this can be fed to tensorflow function"
   ]
  },
  {
   "cell_type": "code",
   "execution_count": 114,
   "id": "ebb5cdfc",
   "metadata": {},
   "outputs": [],
   "source": [
    "y_test = y_test.reshape(-1,)  #-1 means dont change that dimentions"
   ]
  },
  {
   "cell_type": "code",
   "execution_count": 115,
   "id": "f28ecbdb",
   "metadata": {},
   "outputs": [],
   "source": [
    "x_train= x_train/255"
   ]
  },
  {
   "cell_type": "code",
   "execution_count": 116,
   "id": "8da2cf9b",
   "metadata": {},
   "outputs": [],
   "source": [
    "x_test= x_test/255"
   ]
  },
  {
   "cell_type": "code",
   "execution_count": 117,
   "id": "83b6face",
   "metadata": {},
   "outputs": [],
   "source": [
    "y_train = tf.keras.utils.to_categorical(y_train)\n",
    "y_test = tf.keras.utils.to_categorical(y_test)"
   ]
  },
  {
   "cell_type": "markdown",
   "id": "510e46f5",
   "metadata": {},
   "source": [
    "Model"
   ]
  },
  {
   "cell_type": "code",
   "execution_count": 118,
   "id": "68deb03a",
   "metadata": {},
   "outputs": [],
   "source": [
    "cnn = models.Sequential() #32,32,3"
   ]
  },
  {
   "cell_type": "code",
   "execution_count": 119,
   "id": "c1421f8c",
   "metadata": {},
   "outputs": [],
   "source": [
    "cnn.add(layers.Conv2D(filters=32,\n",
    "                      kernel_size=(3,3),\n",
    "                      activation='relu',\n",
    "                      padding='same',\n",
    "                      input_shape=(32,32,3))) #32,32,32\n",
    "\n",
    "cnn.add(layers.BatchNormalization())\n",
    "\n",
    "cnn.add(layers.Conv2D(filters=32,\n",
    "                      kernel_size=(3,3),\n",
    "                      activation='relu',\n",
    "                      padding='same',\n",
    "                      )) #32,32,32\n",
    "\n",
    "cnn.add(layers.BatchNormalization())\n",
    "\n",
    "cnn.add(layers.MaxPooling2D((2, 2))) #31,31,32\n",
    "\n",
    "cnn.add(layers.Dropout(0.2))"
   ]
  },
  {
   "cell_type": "code",
   "execution_count": 120,
   "id": "a17e714a",
   "metadata": {},
   "outputs": [],
   "source": [
    "cnn.add(layers.Conv2D(filters=64,\n",
    "                      kernel_size=(3,3),\n",
    "                      activation='relu',\n",
    "                      padding='same',\n",
    "                      )) #31,31,64\n",
    "\n",
    "cnn.add(layers.BatchNormalization())\n",
    "\n",
    "cnn.add(layers.Conv2D(filters=64,\n",
    "                      kernel_size=(3,3),\n",
    "                      activation='relu',\n",
    "                      padding='same',\n",
    "                      )) #31,31,64\n",
    "\n",
    "cnn.add(layers.BatchNormalization())\n",
    "\n",
    "cnn.add(layers.MaxPooling2D((2, 2)))\n",
    "\n",
    "cnn.add(layers.Dropout(0.3))"
   ]
  },
  {
   "cell_type": "code",
   "execution_count": 121,
   "id": "426169d1",
   "metadata": {},
   "outputs": [],
   "source": [
    "cnn.add(layers.Conv2D(filters=128,\n",
    "                      kernel_size=(3,3),\n",
    "                      activation='relu',\n",
    "                      padding='same',\n",
    "                      input_shape=(32,32,3))) #32,32,32\n",
    "\n",
    "cnn.add(layers.BatchNormalization())\n",
    "\n",
    "cnn.add(layers.Conv2D(filters=128,\n",
    "                      kernel_size=(3,3),\n",
    "                      activation='relu',\n",
    "                      padding='same',\n",
    "                      input_shape=(32,32,3))) #32,32,32\n",
    "\n",
    "cnn.add(layers.BatchNormalization())\n",
    "\n",
    "cnn.add(layers.MaxPooling2D((2, 2)))\n",
    "\n",
    "cnn.add(layers.Dropout(0.4))"
   ]
  },
  {
   "cell_type": "code",
   "execution_count": 122,
   "id": "c738c090",
   "metadata": {},
   "outputs": [],
   "source": [
    "cnn.add(layers.Flatten())\n",
    "cnn.add(layers.Dense(128,activation='relu'))\n",
    "cnn.add(layers.BatchNormalization())\n",
    "cnn.add(layers.Dropout(0.5))"
   ]
  },
  {
   "cell_type": "code",
   "execution_count": 123,
   "id": "68bb5845",
   "metadata": {},
   "outputs": [],
   "source": [
    "cnn.add(layers.Dense(10,activation='softmax'))"
   ]
  },
  {
   "cell_type": "code",
   "execution_count": 124,
   "id": "98be0afd",
   "metadata": {},
   "outputs": [],
   "source": [
    "cnn.compile(optimizer='adam',loss='categorical_crossentropy',metrics=['accuracy'])"
   ]
  },
  {
   "cell_type": "code",
   "execution_count": 125,
   "id": "63d16758",
   "metadata": {
    "scrolled": true
   },
   "outputs": [
    {
     "name": "stdout",
     "output_type": "stream",
     "text": [
      "Epoch 1/20\n",
      "782/782 [==============================] - 196s 249ms/step - loss: 1.6008 - accuracy: 0.4472 - val_loss: 1.1805 - val_accuracy: 0.5767\n",
      "Epoch 2/20\n",
      "782/782 [==============================] - 190s 243ms/step - loss: 1.0582 - accuracy: 0.6262 - val_loss: 1.0804 - val_accuracy: 0.6356\n",
      "Epoch 3/20\n",
      "782/782 [==============================] - 201s 257ms/step - loss: 0.8812 - accuracy: 0.6913 - val_loss: 0.7623 - val_accuracy: 0.7341\n",
      "Epoch 4/20\n",
      "782/782 [==============================] - 224s 286ms/step - loss: 0.7766 - accuracy: 0.7309 - val_loss: 0.7327 - val_accuracy: 0.7453\n",
      "Epoch 5/20\n",
      "782/782 [==============================] - 215s 275ms/step - loss: 0.7091 - accuracy: 0.7558 - val_loss: 0.6493 - val_accuracy: 0.7785\n",
      "Epoch 6/20\n",
      "782/782 [==============================] - 196s 251ms/step - loss: 0.6492 - accuracy: 0.7769 - val_loss: 0.6125 - val_accuracy: 0.7903\n",
      "Epoch 7/20\n",
      "782/782 [==============================] - 198s 254ms/step - loss: 0.5957 - accuracy: 0.7954 - val_loss: 0.6520 - val_accuracy: 0.7825\n",
      "Epoch 8/20\n",
      "782/782 [==============================] - 199s 254ms/step - loss: 0.5571 - accuracy: 0.8094 - val_loss: 0.6150 - val_accuracy: 0.7875\n",
      "Epoch 9/20\n",
      "782/782 [==============================] - 206s 264ms/step - loss: 0.5311 - accuracy: 0.8178 - val_loss: 0.5663 - val_accuracy: 0.8062\n",
      "Epoch 10/20\n",
      "782/782 [==============================] - 200s 255ms/step - loss: 0.5046 - accuracy: 0.8265 - val_loss: 0.5789 - val_accuracy: 0.8040\n",
      "Epoch 11/20\n",
      "782/782 [==============================] - 198s 253ms/step - loss: 0.4768 - accuracy: 0.8357 - val_loss: 0.5113 - val_accuracy: 0.8291\n",
      "Epoch 12/20\n",
      "782/782 [==============================] - 198s 253ms/step - loss: 0.4597 - accuracy: 0.8405 - val_loss: 0.5220 - val_accuracy: 0.8281\n",
      "Epoch 13/20\n",
      "782/782 [==============================] - 199s 254ms/step - loss: 0.4360 - accuracy: 0.8507 - val_loss: 0.4979 - val_accuracy: 0.8312\n",
      "Epoch 14/20\n",
      "782/782 [==============================] - 198s 253ms/step - loss: 0.4194 - accuracy: 0.8567 - val_loss: 0.4883 - val_accuracy: 0.8383\n",
      "Epoch 15/20\n",
      "782/782 [==============================] - 198s 253ms/step - loss: 0.4061 - accuracy: 0.8612 - val_loss: 0.4835 - val_accuracy: 0.8379\n",
      "Epoch 16/20\n",
      "782/782 [==============================] - 198s 253ms/step - loss: 0.3927 - accuracy: 0.8645 - val_loss: 0.5207 - val_accuracy: 0.8304\n",
      "Epoch 17/20\n",
      "782/782 [==============================] - 199s 254ms/step - loss: 0.3780 - accuracy: 0.8708 - val_loss: 0.4578 - val_accuracy: 0.8467\n",
      "Epoch 18/20\n",
      "782/782 [==============================] - 199s 255ms/step - loss: 0.3601 - accuracy: 0.8753 - val_loss: 0.4825 - val_accuracy: 0.8405\n",
      "Epoch 19/20\n",
      "782/782 [==============================] - 199s 254ms/step - loss: 0.3500 - accuracy: 0.8789 - val_loss: 0.4614 - val_accuracy: 0.8518\n",
      "Epoch 20/20\n",
      "782/782 [==============================] - 198s 254ms/step - loss: 0.3476 - accuracy: 0.8791 - val_loss: 0.4634 - val_accuracy: 0.8534\n"
     ]
    },
    {
     "data": {
      "text/plain": [
       "<keras.callbacks.History at 0x7f4eb3aaf880>"
      ]
     },
     "execution_count": 125,
     "metadata": {},
     "output_type": "execute_result"
    }
   ],
   "source": [
    "history = cnn.fit(x_train,y_train,epochs=100,batch_size=64,validation_data=(x_test,y_test))"
   ]
  },
  {
   "cell_type": "code",
   "execution_count": 130,
   "id": "ed648298",
   "metadata": {},
   "outputs": [
    {
     "ename": "AttributeError",
     "evalue": "module 'tensorflow.keras' has no attribute 'history'",
     "output_type": "error",
     "traceback": [
      "\u001b[0;31m---------------------------------------------------------------------------\u001b[0m",
      "\u001b[0;31mAttributeError\u001b[0m                            Traceback (most recent call last)",
      "\u001b[0;32m<ipython-input-130-2a4d60ab29c9>\u001b[0m in \u001b[0;36m<module>\u001b[0;34m\u001b[0m\n\u001b[0;32m----> 1\u001b[0;31m \u001b[0mplt\u001b[0m\u001b[0;34m.\u001b[0m\u001b[0mplot\u001b[0m\u001b[0;34m(\u001b[0m\u001b[0mtf\u001b[0m\u001b[0;34m.\u001b[0m\u001b[0mkeras\u001b[0m\u001b[0;34m.\u001b[0m\u001b[0mhistory\u001b[0m\u001b[0;34m.\u001b[0m\u001b[0mhistory\u001b[0m\u001b[0;34m[\u001b[0m\u001b[0;34m'accuracy'\u001b[0m\u001b[0;34m]\u001b[0m\u001b[0;34m)\u001b[0m\u001b[0;34m\u001b[0m\u001b[0;34m\u001b[0m\u001b[0m\n\u001b[0m\u001b[1;32m      2\u001b[0m \u001b[0mplt\u001b[0m\u001b[0;34m.\u001b[0m\u001b[0mplot\u001b[0m\u001b[0;34m(\u001b[0m\u001b[0mtf\u001b[0m\u001b[0;34m.\u001b[0m\u001b[0mkeras\u001b[0m\u001b[0;34m,\u001b[0m\u001b[0mhistory\u001b[0m\u001b[0;34m.\u001b[0m\u001b[0mhistory\u001b[0m\u001b[0;34m[\u001b[0m\u001b[0;34m'val_accuracy'\u001b[0m\u001b[0;34m]\u001b[0m\u001b[0;34m)\u001b[0m\u001b[0;34m\u001b[0m\u001b[0;34m\u001b[0m\u001b[0m\n\u001b[1;32m      3\u001b[0m \u001b[0mplt\u001b[0m\u001b[0;34m.\u001b[0m\u001b[0mtitle\u001b[0m\u001b[0;34m(\u001b[0m\u001b[0;34m'model accuracy'\u001b[0m\u001b[0;34m)\u001b[0m\u001b[0;34m\u001b[0m\u001b[0;34m\u001b[0m\u001b[0m\n\u001b[1;32m      4\u001b[0m \u001b[0mplt\u001b[0m\u001b[0;34m.\u001b[0m\u001b[0mylabel\u001b[0m\u001b[0;34m(\u001b[0m\u001b[0;34m'accuracy'\u001b[0m\u001b[0;34m)\u001b[0m\u001b[0;34m\u001b[0m\u001b[0;34m\u001b[0m\u001b[0m\n\u001b[1;32m      5\u001b[0m \u001b[0mplt\u001b[0m\u001b[0;34m.\u001b[0m\u001b[0mxlabel\u001b[0m\u001b[0;34m(\u001b[0m\u001b[0;34m'epoch'\u001b[0m\u001b[0;34m)\u001b[0m\u001b[0;34m\u001b[0m\u001b[0;34m\u001b[0m\u001b[0m\n",
      "\u001b[0;31mAttributeError\u001b[0m: module 'tensorflow.keras' has no attribute 'history'"
     ]
    }
   ],
   "source": [
    "plt.plot(tf.keras.history.history['accuracy'])\n",
    "plt.plot(tf.keras,history.history['val_accuracy'])\n",
    "plt.title('model accuracy')\n",
    "plt.ylabel('accuracy')\n",
    "plt.xlabel('epoch')\n",
    "plt.legend(['train', 'test'], loc='upper left')\n",
    "plt.show()\n",
    "\n",
    "\n",
    "plt.plot(tf.keras.history.history['loss'])\n",
    "plt.plot(tf.keras.history.history['val_loss'])\n",
    "plt.title('model loss')\n",
    "plt.ylabel('loss')\n",
    "plt.xlabel('epoch')\n",
    "plt.legend(['train', 'test'], loc='upper left')\n",
    "plt.show()"
   ]
  },
  {
   "cell_type": "code",
   "execution_count": 128,
   "id": "76e1f81f",
   "metadata": {},
   "outputs": [
    {
     "name": "stdout",
     "output_type": "stream",
     "text": [
      "313/313 [==============================] - 10s 33ms/step - loss: 0.4634 - accuracy: 0.8534\n"
     ]
    },
    {
     "data": {
      "text/plain": [
       "[0.4634445309638977, 0.8533999919891357]"
      ]
     },
     "execution_count": 128,
     "metadata": {},
     "output_type": "execute_result"
    }
   ],
   "source": [
    "cnn.evaluate(x_test,y_test)"
   ]
  },
  {
   "cell_type": "code",
   "execution_count": null,
   "id": "566fc0eb",
   "metadata": {},
   "outputs": [],
   "source": []
  }
 ],
 "metadata": {
  "kernelspec": {
   "display_name": "Python 3",
   "language": "python",
   "name": "python3"
  },
  "language_info": {
   "codemirror_mode": {
    "name": "ipython",
    "version": 3
   },
   "file_extension": ".py",
   "mimetype": "text/x-python",
   "name": "python",
   "nbconvert_exporter": "python",
   "pygments_lexer": "ipython3",
   "version": "3.8.8"
  }
 },
 "nbformat": 4,
 "nbformat_minor": 5
}
